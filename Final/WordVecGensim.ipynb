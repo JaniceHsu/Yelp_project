{
 "cells": [
  {
   "cell_type": "markdown",
   "metadata": {},
   "source": [
    "## Experimented with POS tags and gensim to perform aspect-level sentiment analysis on restaurant reviews but decided to change the approach."
   ]
  },
  {
   "cell_type": "code",
   "execution_count": 13,
   "metadata": {
    "collapsed": false
   },
   "outputs": [],
   "source": [
    "import csv\n",
    "import nltk\n",
    "import gensim\n",
    "from nltk.tokenize import word_tokenize\n",
    "from nltk.tokenize import StanfordTokenizer\n",
    "from nltk import word_tokenize\n",
    "from nltk.corpus import stopwords\n"
   ]
  },
  {
   "cell_type": "code",
   "execution_count": 22,
   "metadata": {
    "collapsed": false
   },
   "outputs": [],
   "source": [
    "fname = r\"reviews_ChinesePN_1000.csv\"\n",
    "f = open(fname, 'r', encoding = 'utf8')\n",
    "reader = csv.reader(f)\n",
    "#separate yelp reviews and target sentiment value\n",
    "def separateTextTarget(reader):\n",
    "    docs = []\n",
    "    target = []    \n",
    "    for row in reader:\n",
    "        break\n",
    "    for row in reader:\n",
    "        docs.append(row[0])\n",
    "        target.append(row[1])\n",
    "    return (docs, target)\n",
    "docs, target = separateTextTarget(reader)\n",
    "f.close()"
   ]
  },
  {
   "cell_type": "code",
   "execution_count": 23,
   "metadata": {
    "collapsed": true
   },
   "outputs": [],
   "source": [
    "#define tokenizer\n",
    "sent_detector = nltk.data.load('tokenizers/punkt/english.pickle')\n",
    "tokenizer = StanfordTokenizer('../stanford-postagger/stanford-postagger.jar')\n",
    "tokenized_text = tokenizer.tokenize(docs[0]) #test"
   ]
  },
  {
   "cell_type": "code",
   "execution_count": 41,
   "metadata": {
    "collapsed": false
   },
   "outputs": [
    {
     "name": "stdout",
     "output_type": "stream",
     "text": [
      "8083\n"
     ]
    }
   ],
   "source": [
    "#tokenize text-- by sentence and by words within the sentence\n",
    "#listSentListWords: list of lists-- lists of tokenized words\n",
    "listSentListWords = []\n",
    "words = []\n",
    "for review in docs:\n",
    "    sentTok = sent_detector.tokenize(review)\n",
    "    temp = []\n",
    "    for i in sentTok:\n",
    "        w = word_tokenize(i)\n",
    "        words.extend(w)\n",
    "        temp.append(w)\n",
    "    listSentListWords.extend(temp)\n",
    "print(len(listSentListWords))"
   ]
  },
  {
   "cell_type": "code",
   "execution_count": 42,
   "metadata": {
    "collapsed": false
   },
   "outputs": [],
   "source": [
    "model = gensim.models.Word2Vec(iter=1, min_count=2)  # an empty model, no training yet\n",
    "model.build_vocab(listSentListWords)"
   ]
  },
  {
   "cell_type": "code",
   "execution_count": 43,
   "metadata": {
    "collapsed": false
   },
   "outputs": [
    {
     "name": "stdout",
     "output_type": "stream",
     "text": [
      "[('food', 'NN'), ('good', 'JJ'), (\"n't\", 'RB'), ('place', 'NN'), (\"'s\", 'POS')]\n"
     ]
    }
   ],
   "source": [
    "#remove stopwords\n",
    "stop_words = set(stopwords.words('english'))\n",
    "words = [w.lower() for w in words if not w.lower() in stop_words and len(w) > 1]\n",
    "#find most common words -- to select nouns (restaurant aspects)\n",
    "# and to find close words using word vectors/synonyms/similarity scores\n",
    "common = nltk.FreqDist(words).most_common(1000)\n",
    "topwords = [w[0] for w in common]\n",
    "tagged = nltk.pos_tag(topwords)\n",
    "print(tagged[:5])"
   ]
  },
  {
   "cell_type": "code",
   "execution_count": 44,
   "metadata": {
    "collapsed": false
   },
   "outputs": [
    {
     "name": "stdout",
     "output_type": "stream",
     "text": [
      "[('food', 1156), ('place', 637), ('chicken', 477), ('service', 367), ('rice', 353)]\n"
     ]
    }
   ],
   "source": [
    "#find most commonly occuring nouns\n",
    "nouns = [w for w,tag in tagged if tag in ['NN', 'NNP', 'NNS']]\n",
    "nouns_freq = [(w,freq) for w,freq in common if w in nouns]\n",
    "print(nouns_freq[:5])"
   ]
  },
  {
   "cell_type": "code",
   "execution_count": 45,
   "metadata": {
    "collapsed": false
   },
   "outputs": [],
   "source": [
    "#separate data into test/training\n",
    "n = int(len(listSentListWords)*0.8)\n",
    "trainSent = listSentListWords[:n]\n",
    "testSent = listSentListWords[n:]"
   ]
  },
  {
   "cell_type": "code",
   "execution_count": 46,
   "metadata": {
    "collapsed": false
   },
   "outputs": [
    {
     "data": {
      "text/plain": [
       "14599"
      ]
     },
     "execution_count": 46,
     "metadata": {},
     "output_type": "execute_result"
    }
   ],
   "source": [
    "#test out tools in gensim\n",
    "model = gensim.models.Word2Vec(iter=1)  # an empty model, no training yet\n",
    "model.build_vocab(trainSent)  # can be a non-repeatable, 1-pass generator\n",
    "model.train(testSent)  # can be a non-repeatable, 1-pass generator"
   ]
  },
  {
   "cell_type": "code",
   "execution_count": 47,
   "metadata": {
    "collapsed": false
   },
   "outputs": [],
   "source": [
    "model = gensim.models.Word2Vec(iter=1, min_count=1)  # an empty model, no training yet\n",
    "model.build_vocab(listSentListWords)"
   ]
  },
  {
   "cell_type": "code",
   "execution_count": 48,
   "metadata": {
    "collapsed": false
   },
   "outputs": [
    {
     "data": {
      "text/plain": [
       "138185"
      ]
     },
     "execution_count": 48,
     "metadata": {},
     "output_type": "execute_result"
    }
   ],
   "source": [
    "x = gensim.models.Word2Vec(listSentListWords[:5000])\n",
    "x.train(listSentListWords[5000:])"
   ]
  },
  {
   "cell_type": "code",
   "execution_count": 30,
   "metadata": {
    "collapsed": false
   },
   "outputs": [
    {
     "data": {
      "text/plain": [
       "12507"
      ]
     },
     "execution_count": 30,
     "metadata": {},
     "output_type": "execute_result"
    }
   ],
   "source": [
    "model.train(vocabset1)"
   ]
  },
  {
   "cell_type": "code",
   "execution_count": 49,
   "metadata": {
    "collapsed": false
   },
   "outputs": [
    {
     "data": {
      "text/plain": [
       "137826"
      ]
     },
     "execution_count": 49,
     "metadata": {},
     "output_type": "execute_result"
    }
   ],
   "source": [
    "x = gensim.models.Word2Vec(listSentListWords[:5000])\n",
    "x.train(listSentListWords[5000:])"
   ]
  }
 ],
 "metadata": {
  "anaconda-cloud": {},
  "kernelspec": {
   "display_name": "Python [default]",
   "language": "python",
   "name": "python3"
  },
  "language_info": {
   "codemirror_mode": {
    "name": "ipython",
    "version": 3
   },
   "file_extension": ".py",
   "mimetype": "text/x-python",
   "name": "python",
   "nbconvert_exporter": "python",
   "pygments_lexer": "ipython3",
   "version": "3.5.2"
  }
 },
 "nbformat": 4,
 "nbformat_minor": 1
}
