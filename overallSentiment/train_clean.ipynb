{
 "cells": [
  {
   "cell_type": "code",
   "execution_count": 1,
   "metadata": {
    "collapsed": true
   },
   "outputs": [],
   "source": [
    "import re\n",
    "from nltk.corpus import stopwords\n",
    "from nltk import word_tokenize\n",
    "from nltk import FreqDist\n",
    "import csv \n",
    "import random\n",
    "import nltk\n",
    "\n",
    "\n",
    "\n",
    "def reduceText(text, stops):\n",
    "    text = text.lower() #assign 1\n",
    "    text = re.sub('\\W', ' ', text) #not in set [a-zA-Z0-9_], general purpose to remove punctuation\n",
    "    tokens = word_tokenize(text)\n",
    "    return [w for w in tokens if not w in stops]\n",
    "\n",
    "def get_word_features(docs):\n",
    "    posWords = []\n",
    "    negWords = []\n",
    "    for t, s in docs:\n",
    "        if s == '1':\n",
    "            posWords.extend(t)\n",
    "        else:\n",
    "            negWords.extend(t)\n",
    "    word_features = nltk.FreqDist(posWords+negWords)\n",
    "    return [w for w, n in word_features.most_common()[:2000]]            \n",
    "\n",
    "def document_features(document, word_features):\n",
    "    document_words = set(document) \n",
    "    features = {}\n",
    "    for word in word_features:\n",
    "        features['contains({})'.format(word)] = (word in document_words)\n",
    "    return features\n"
   ]
  },
  {
   "cell_type": "code",
   "execution_count": 3,
   "metadata": {
    "collapsed": false
   },
   "outputs": [
    {
     "name": "stdout",
     "output_type": "stream",
     "text": [
      "collected text and suffled docs\n"
     ]
    }
   ],
   "source": [
    "fname = r\"reviews_ChinesePN_test.csv\"\n",
    "f = open(fname, 'r', encoding = 'utf8')\n",
    "reader = csv.reader(f)\n",
    "\n",
    "docs = []\n",
    "\n",
    "stops = set(stopwords.words(\"english\"))                  \n",
    "for row in reader:\n",
    "    break\n",
    "for row in reader:\n",
    "    docs.append((reduceText(row[0], stops), row[1]))\n",
    "random.shuffle(docs)\n",
    "\n",
    "print(\"collected text and suffled docs\")"
   ]
  },
  {
   "cell_type": "code",
   "execution_count": 7,
   "metadata": {
    "collapsed": false
   },
   "outputs": [],
   "source": [
    "posWords = []\n",
    "negWords = []\n",
    "\n",
    "for t, s in docs:\n",
    "    if s == '1':\n",
    "        posWords.extend(t)\n",
    "    else:\n",
    "        negWords.extend(t)\n",
    "word_features = nltk.FreqDist(posWords+negWords)\n",
    "word_features = [w for w, n in word_features.most_common()[:500]]"
   ]
  },
  {
   "cell_type": "code",
   "execution_count": 9,
   "metadata": {
    "collapsed": false
   },
   "outputs": [
    {
     "name": "stdout",
     "output_type": "stream",
     "text": [
      "got feature sets and now classifying\n"
     ]
    }
   ],
   "source": [
    "featuresets = [(document_features(d, word_features), c) for (d,c) in docs]\n",
    "total = len(featuresets) #split numbers\n",
    "trainNum = int(total*.8)\n",
    "train_set, test_set = featuresets[:trainNum], featuresets[trainNum:]\n",
    "print(\"got feature sets and now classifying\")"
   ]
  },
  {
   "cell_type": "code",
   "execution_count": 14,
   "metadata": {
    "collapsed": false,
    "scrolled": true
   },
   "outputs": [
    {
     "name": "stdout",
     "output_type": "stream",
     "text": [
      "Most Informative Features\n",
      "         contains(worst) = True                0 : 1      =     22.8 : 1.0\n",
      "      contains(horrible) = True                0 : 1      =     13.4 : 1.0\n",
      "      contains(terrible) = True                0 : 1      =      9.2 : 1.0\n",
      "          contains(rude) = True                0 : 1      =      8.2 : 1.0\n",
      "         contains(yummy) = True                1 : 0      =      7.2 : 1.0\n",
      "     contains(excellent) = True                1 : 0      =      6.9 : 1.0\n",
      "     contains(delicious) = True                1 : 0      =      6.6 : 1.0\n",
      "     contains(perfectly) = True                1 : 0      =      6.5 : 1.0\n",
      "     contains(fantastic) = True                1 : 0      =      6.5 : 1.0\n",
      "       contains(perfect) = True                1 : 0      =      6.2 : 1.0\n",
      "    contains(reasonable) = True                1 : 0      =      5.5 : 1.0\n",
      "     contains(wonderful) = True                1 : 0      =      5.4 : 1.0\n",
      "       contains(amazing) = True                1 : 0      =      5.0 : 1.0\n",
      "       contains(awesome) = True                1 : 0      =      4.6 : 1.0\n",
      "         contains(money) = True                0 : 1      =      4.4 : 1.0\n",
      "          contains(told) = True                0 : 1      =      4.4 : 1.0\n",
      "      contains(favorite) = True                1 : 0      =      4.3 : 1.0\n",
      "        contains(tender) = True                1 : 0      =      4.3 : 1.0\n",
      "         contains(loved) = True                1 : 0      =      3.9 : 1.0\n",
      "       contains(manager) = True                0 : 1      =      3.8 : 1.0\n"
     ]
    }
   ],
   "source": [
    "wf = open(\"resultNaiveBayesTestCSV.txt\", 'w')\n",
    "classifier = nltk.NaiveBayesClassifier.train(train_set)\n",
    "wf.write(str(nltk.classify.accuracy(classifier, test_set)))\n",
    "wf.write(\"\\n\")\n",
    "wf.write(str(classifier.show_most_informative_features(20)))\n",
    "wf.close()"
   ]
  },
  {
   "cell_type": "code",
   "execution_count": 11,
   "metadata": {
    "collapsed": false
   },
   "outputs": [
    {
     "name": "stdout",
     "output_type": "stream",
     "text": [
      "END\n"
     ]
    }
   ],
   "source": [
    "f.close()\n",
    "print(\"END\")"
   ]
  },
  {
   "cell_type": "code",
   "execution_count": null,
   "metadata": {
    "collapsed": true
   },
   "outputs": [],
   "source": []
  }
 ],
 "metadata": {
  "anaconda-cloud": {},
  "kernelspec": {
   "display_name": "Python [default]",
   "language": "python",
   "name": "python3"
  },
  "language_info": {
   "codemirror_mode": {
    "name": "ipython",
    "version": 3
   },
   "file_extension": ".py",
   "mimetype": "text/x-python",
   "name": "python",
   "nbconvert_exporter": "python",
   "pygments_lexer": "ipython3",
   "version": "3.5.2"
  }
 },
 "nbformat": 4,
 "nbformat_minor": 1
}
