{
 "cells": [
  {
   "cell_type": "code",
   "execution_count": 1,
   "metadata": {
    "collapsed": false
   },
   "outputs": [
    {
     "name": "stderr",
     "output_type": "stream",
     "text": [
      "C:\\Users\\Janice\\Anaconda3\\lib\\site-packages\\gensim\\utils.py:855: UserWarning: detected Windows; aliasing chunkize to chunkize_serial\n",
      "  warnings.warn(\"detected Windows; aliasing chunkize to chunkize_serial\")\n"
     ]
    }
   ],
   "source": [
    "#python 3\n",
    "import gensim"
   ]
  },
  {
   "cell_type": "code",
   "execution_count": 2,
   "metadata": {
    "collapsed": true
   },
   "outputs": [],
   "source": [
    "import pandas as pd"
   ]
  },
  {
   "cell_type": "code",
   "execution_count": 3,
   "metadata": {
    "collapsed": false
   },
   "outputs": [],
   "source": [
    "train = pd.read_csv(r\"reviews_ChinesePN.csv\")"
   ]
  },
  {
   "cell_type": "code",
   "execution_count": 4,
   "metadata": {
    "collapsed": false
   },
   "outputs": [
    {
     "name": "stdout",
     "output_type": "stream",
     "text": [
      "<class 'pandas.core.frame.DataFrame'>\n"
     ]
    }
   ],
   "source": [
    "train.shape\n",
    "print(type(train))"
   ]
  },
  {
   "cell_type": "code",
   "execution_count": 5,
   "metadata": {
    "collapsed": false
   },
   "outputs": [
    {
     "data": {
      "text/plain": [
       "array(['text', 'sentiment'], dtype=object)"
      ]
     },
     "execution_count": 5,
     "metadata": {},
     "output_type": "execute_result"
    }
   ],
   "source": [
    "train.columns.values"
   ]
  },
  {
   "cell_type": "code",
   "execution_count": 16,
   "metadata": {
    "collapsed": false,
    "scrolled": true
   },
   "outputs": [
    {
     "name": "stdout",
     "output_type": "stream",
     "text": [
      "We have been going here for years, I mean lots of years for the crab legs, mostly because they brought them out at  a reasonable pace which is to say not slowly.\n",
      "\n",
      "As of a few months ago if they felt someone was eating too many they started slowing down or deliberately bringing out \"skunky\" legs, the ones that taste real fishy and aren't really all that well cooked. \n",
      "\n",
      "On a recent visit the owner, a Chinese man in his late 40's or 50's actually yelled at a customer at length in Chinese  for eating too many crab legs. I have never seen such rudeness and we won't go back again, the food is a C-, the attitude is an F.\n"
     ]
    }
   ],
   "source": [
    "print (text) # 1th index review"
   ]
  },
  {
   "cell_type": "code",
   "execution_count": 42,
   "metadata": {
    "collapsed": false,
    "scrolled": false
   },
   "outputs": [
    {
     "name": "stdout",
     "output_type": "stream",
     "text": [
      "we have been going here for years  i mean lots of years for the crab legs  mostly because they brought them out at  a reasonable pace which is to say not slowly   as of a few months ago if they felt someone was eating too many they started slowing down or deliberately bringing out  skunky  legs  the ones that taste real fishy and aren t really all that well cooked    on a recent visit the owner  a chinese man in his late    s or    s actually yelled at a customer at length in chinese  for eating too many crab legs  i have never seen such rudeness and we won t go back again  the food is a c   the attitude is an f \n",
      "['we', 'have', 'been', 'going', 'here', 'for', 'years', 'i', 'mean', 'lots', 'of', 'years', 'for', 'the', 'crab', 'legs', 'mostly', 'because', 'they', 'brought', 'them', 'out', 'at', 'a', 'reasonable', 'pace', 'which', 'is', 'to', 'say', 'not', 'slowly', 'as', 'of', 'a', 'few', 'months', 'ago', 'if', 'they', 'felt', 'someone', 'was', 'eating', 'too', 'many', 'they', 'started', 'slowing', 'down', 'or', 'deliberately', 'bringing', 'out', 'skunky', 'legs', 'the', 'ones', 'that', 'taste', 'real', 'fishy', 'and', 'aren', 't', 'really', 'all', 'that', 'well', 'cooked', 'on', 'a', 'recent', 'visit', 'the', 'owner', 'a', 'chinese', 'man', 'in', 'his', 'late', 's', 'or', 's', 'actually', 'yelled', 'at', 'a', 'customer', 'at', 'length', 'in', 'chinese', 'for', 'eating', 'too', 'many', 'crab', 'legs', 'i', 'have', 'never', 'seen', 'such', 'rudeness', 'and', 'we', 'won', 't', 'go', 'back', 'again', 'the', 'food', 'is', 'a', 'c', 'the', 'attitude', 'is', 'an', 'f']\n",
      "going years mean lots years crab legs mostly brought reasonable pace say slowly months ago felt someone eating many started slowing deliberately bringing skunky legs ones taste real fishy really well cooked recent visit owner chinese man late actually yelled customer length chinese eating many crab legs never seen rudeness go back food c attitude f\n"
     ]
    }
   ],
   "source": [
    "\n",
    "import re\n",
    "from nltk.corpus import stopwords\n",
    "from nltk import word_tokenize\n",
    "# Use regular expressions to do a find-and-replace\n",
    "text = train['text'][1]\n",
    "#print(text)\n",
    "text = text.lower() #assign 1\n",
    "text = re.sub(r'\\.,', ' ', text) #remove non-alphabetic characters\n",
    "#print(text)\n",
    "text = re.sub('[^a-z]', ' ', text) #remove non-alphabetic characters\n",
    "print(text)\n",
    "tokens = word_tokenize(text)\n",
    "print(tokens)\n",
    "stops = set(stopwords.words(\"english\"))                  \n",
    "meaningful_words = [w for w in tokens if not w in stops]\n",
    "wo_stops = \" \".join(meaningful_words)\n",
    "print(wo_stops)\n"
   ]
  },
  {
   "cell_type": "code",
   "execution_count": 44,
   "metadata": {
    "collapsed": false
   },
   "outputs": [],
   "source": [
    "num_reviews = train[\"text\"].size"
   ]
  },
  {
   "cell_type": "code",
   "execution_count": 45,
   "metadata": {
    "collapsed": false
   },
   "outputs": [
    {
     "name": "stdout",
     "output_type": "stream",
     "text": [
      "98105\n"
     ]
    }
   ],
   "source": [
    "print(num_reviews\n",
    "     )"
   ]
  }
 ],
 "metadata": {
  "anaconda-cloud": {},
  "kernelspec": {
   "display_name": "Python [default]",
   "language": "python",
   "name": "python3"
  },
  "language_info": {
   "codemirror_mode": {
    "name": "ipython",
    "version": 3
   },
   "file_extension": ".py",
   "mimetype": "text/x-python",
   "name": "python",
   "nbconvert_exporter": "python",
   "pygments_lexer": "ipython3",
   "version": "3.5.2"
  }
 },
 "nbformat": 4,
 "nbformat_minor": 1
}
